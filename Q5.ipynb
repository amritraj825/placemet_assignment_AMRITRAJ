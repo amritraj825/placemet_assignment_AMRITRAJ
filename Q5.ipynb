{
 "cells": [
  {
   "attachments": {},
   "cell_type": "markdown",
   "metadata": {},
   "source": [
    "A certain city has two taxi companies: Company A has 80% of the taxis and\n",
    "Company B has 20% of the taxis. Company A's taxis have a 95% success rate for picking\n",
    "up passengers on time, while Company B's taxis have a 90% success rate. If a randomly\n",
    "selected taxi is late, what is the probability that it belongs to Company A?"
   ]
  },
  {
   "attachments": {},
   "cell_type": "markdown",
   "metadata": {},
   "source": [
    "Solution:  \n",
    "\n",
    "Since we have the information that Company A has 80% of the taxis and Company B has 20% of the taxis, we can assume that the probability of selecting a taxi from Company B is 0.2 and the probability of a taxi from Company B being late is 0.1.\n",
    "\n",
    "Substituting the values into Bayes' theorem:\n",
    "P(A|B) = 0.05 * 0.8 / (0.05 * 0.8 + 0.1 * 0.2)\n",
    "\n",
    "Simplifying:\n",
    "P(A|B) = 0.04 / (0.04 + 0.02)\n",
    "P(A|B) = 0.04 / 0.06\n",
    "P(A|B) = 0.6667\n",
    "\n",
    "Therefore, the probability that a randomly selected late taxi belongs to Company A is approximately 0.6667 or 66.67%."
   ]
  },
  {
   "cell_type": "code",
   "execution_count": null,
   "metadata": {},
   "outputs": [],
   "source": []
  }
 ],
 "metadata": {
  "language_info": {
   "name": "python"
  },
  "orig_nbformat": 4
 },
 "nbformat": 4,
 "nbformat_minor": 2
}
