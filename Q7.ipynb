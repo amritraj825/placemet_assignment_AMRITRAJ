{
 "cells": [
  {
   "cell_type": "code",
   "execution_count": null,
   "metadata": {},
   "outputs": [],
   "source": []
  },
  {
   "attachments": {},
   "cell_type": "markdown",
   "metadata": {},
   "source": [
    "Q-7. The equations of two lines of regression, obtained in a correlation analysis\n",
    "between variables X and Y are as follows:\n",
    "and . 2𝑋 + 3 − 8 = 0 2𝑌 + 𝑋 − 5 = 0 The variance of 𝑋 = 4 Find the\n",
    "a. Variance of Y\n",
    "b. Coefficient of determination of C and Y\n",
    "c. Standard error of estimate of X on Y and of Y on X."
   ]
  },
  {
   "attachments": {},
   "cell_type": "markdown",
   "metadata": {},
   "source": []
  }
 ],
 "metadata": {
  "language_info": {
   "name": "python"
  },
  "orig_nbformat": 4
 },
 "nbformat": 4,
 "nbformat_minor": 2
}
