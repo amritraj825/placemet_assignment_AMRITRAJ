{
 "cells": [
  {
   "attachments": {},
   "cell_type": "markdown",
   "metadata": {},
   "source": [
    "Consider a dataset containing the heights (in centimeters) of 1000 individuals. The\n",
    "mean height is 170 cm with a standard deviation of 10 cm. The dataset is approximately\n",
    "normally distributed, and its skewness is approximately zero. Based on this information,\n",
    "answer the following questions:\n",
    "a. What percentage of individuals in the dataset have heights between 160 cm\n",
    "and 180 cm?\n",
    "b. If we randomly select 100 individuals from the dataset, what is the probability\n",
    "that their average height is greater than 175 cm?\n",
    "c. Assuming the dataset follows a normal distribution, what is the z-score\n",
    "corresponding to a height of 185 cm?\n",
    "d. We know that 5% of the dataset has heights below a certain value. What is\n",
    "the approximate height corresponding to this threshold?\n",
    "e. Calculate the coefficient of variation (CV) for the dataset.\n",
    "f. Calculate the skewness of the dataset and interpret the result."
   ]
  },
  {
   "attachments": {},
   "cell_type": "markdown",
   "metadata": {},
   "source": [
    "SOLUTION"
   ]
  },
  {
   "attachments": {},
   "cell_type": "markdown",
   "metadata": {},
   "source": [
    "a. To find the percentage of individuals with heights between 160 cm and 180 cm, we can use the properties of the normal distribution.\n",
    "\n",
    "We know that the mean height is 170 cm, and the standard deviation is 10 cm. Since the distribution is approximately normal and the skewness is close to zero, we can use the empirical rule (68-95-99.7 rule) for normally distributed data.\n",
    "\n",
    "According to this rule, approximately 68% of the data falls within one standard deviation of the mean, approximately 95% falls within two standard deviations, and approximately 99.7% falls within three standard deviations.\n",
    "\n",
    "Since the range of interest is within one standard deviation of the mean (160 cm to 180 cm), we can estimate that approximately 68% of individuals in the dataset have heights within this range."
   ]
  },
  {
   "attachments": {},
   "cell_type": "markdown",
   "metadata": {},
   "source": [
    "b. To calculate the probability that the average height of a randomly selected sample of 100 individuals is greater than 175 cm, we can use the Central Limit Theorem.\n",
    "\n",
    "The Central Limit Theorem states that when a sample size is large enough, the distribution of sample means will be approximately normal regardless of the shape of the original population.\n",
    "\n",
    "In this case, the population standard deviation is 10 cm, and we are sampling 100 individuals. The standard deviation of the sample means, also known as the standard error, is given by the formula: standard deviation / square root of sample size.\n",
    "\n",
    "Standard error = 10 cm / sqrt(100) = 1 cm.\n",
    "\n",
    "To calculate the probability, we need to convert the height of 175 cm to a z-score using the formula: z = (x - μ) / σ, where x is the value we want to convert, μ is the mean, and σ is the standard deviation.\n",
    "\n",
    "z = (175 - 170) / 1 = 5\n",
    "\n",
    "Using a standard normal distribution table or calculator, we can find the probability associated with a z-score of 5, which is extremely close to 1 (almost 100%).\n",
    "\n",
    "Therefore, the probability that the average height of a randomly selected sample of 100 individuals is greater than 175 cm is approximately 100%.\n",
    "\n",
    "c. calculation zscore height of 185 cm \n",
    " z = (x - μ) / σ.\n",
    "\n",
    "z = (185 - 170) / 10 = 1.5\n",
    "\n",
    "zscore of height of 185 cm is 1.5.\n",
    "\n",
    "d. the z-score corresponding to a cumulative probability of 0.05 is approximately -1.645.\n",
    "\n",
    "Using the formula: z = (x - μ) / σ, we can solve for x:\n",
    "\n",
    "-1.645 = (x - 170) / 10\n",
    "\n",
    "Solving for x, we get:\n",
    "\n",
    "x - 170 = -1.645 * 10\n",
    "\n",
    "x - 170 = -16.45\n",
    "\n",
    "x = 170 - 16.45\n",
    "\n",
    "x ≈ 153.55\n",
    "\n",
    "Therefore, the approximate height corresponding to the threshold where 5% of the dataset has heights below it is approximately 153.55 cm.\n",
    "\n",
    "e. The coefficient of variation (CV) is a measure of relative variability and is calculated as the ratio of the standard deviation to the mean, multiplied by 100% to express it as a percentage.\n",
    "\n",
    "CV = (standard deviation / mean) * 100\n",
    "\n",
    "In this case, the standard deviation is 10 cm, and the mean is 170 cm.\n",
    "\n",
    "CV = (10 / 170) * 100 ≈"
   ]
  },
  {
   "cell_type": "markdown",
   "metadata": {},
   "source": []
  }
 ],
 "metadata": {
  "kernelspec": {
   "display_name": "base",
   "language": "python",
   "name": "python3"
  },
  "language_info": {
   "codemirror_mode": {
    "name": "ipython",
    "version": 3
   },
   "file_extension": ".py",
   "mimetype": "text/x-python",
   "name": "python",
   "nbconvert_exporter": "python",
   "pygments_lexer": "ipython3",
   "version": "3.9.7"
  },
  "orig_nbformat": 4
 },
 "nbformat": 4,
 "nbformat_minor": 2
}
